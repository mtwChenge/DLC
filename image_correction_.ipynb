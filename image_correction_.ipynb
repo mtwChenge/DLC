{
 "cells": [
  {
   "cell_type": "code",
   "execution_count": null,
   "id": "a30d3eff-2c35-4eb0-a197-016581c80d1e",
   "metadata": {},
   "outputs": [],
   "source": [
    "#####影像校正測試"
   ]
  },
  {
   "cell_type": "code",
   "execution_count": 1,
   "id": "df5101ac-c4e7-40a2-8bc8-674bcb573c6e",
   "metadata": {},
   "outputs": [
    {
     "name": "stdout",
     "output_type": "stream",
     "text": [
      "無法打開影片檔案\n",
      "影片總幀數: 0\n"
     ]
    },
    {
     "ename": "ValueError",
     "evalue": "Sample larger than population or is negative",
     "output_type": "error",
     "traceback": [
      "\u001b[0;31m---------------------------------------------------------------------------\u001b[0m",
      "\u001b[0;31mValueError\u001b[0m                                Traceback (most recent call last)",
      "Cell \u001b[0;32mIn[1], line 22\u001b[0m\n\u001b[1;32m     19\u001b[0m \u001b[38;5;28mprint\u001b[39m(\u001b[38;5;124mf\u001b[39m\u001b[38;5;124m\"\u001b[39m\u001b[38;5;124m影片總幀數: \u001b[39m\u001b[38;5;132;01m{\u001b[39;00mtotal_frames\u001b[38;5;132;01m}\u001b[39;00m\u001b[38;5;124m\"\u001b[39m)\n\u001b[1;32m     21\u001b[0m \u001b[38;5;66;03m# 隨機選擇 20 個幀號\u001b[39;00m\n\u001b[0;32m---> 22\u001b[0m random_frames \u001b[38;5;241m=\u001b[39m \u001b[43mrandom\u001b[49m\u001b[38;5;241;43m.\u001b[39;49m\u001b[43msample\u001b[49m\u001b[43m(\u001b[49m\u001b[38;5;28;43mrange\u001b[39;49m\u001b[43m(\u001b[49m\u001b[43mtotal_frames\u001b[49m\u001b[43m)\u001b[49m\u001b[43m,\u001b[49m\u001b[43m \u001b[49m\u001b[38;5;241;43m20\u001b[39;49m\u001b[43m)\u001b[49m\n\u001b[1;32m     23\u001b[0m random_frames\u001b[38;5;241m.\u001b[39msort()\n\u001b[1;32m     24\u001b[0m \u001b[38;5;28mprint\u001b[39m(\u001b[38;5;124mf\u001b[39m\u001b[38;5;124m\"\u001b[39m\u001b[38;5;124m選擇的幀號: \u001b[39m\u001b[38;5;132;01m{\u001b[39;00mrandom_frames\u001b[38;5;132;01m}\u001b[39;00m\u001b[38;5;124m\"\u001b[39m)\n",
      "File \u001b[0;32m~/miniconda3/envs/DLC/lib/python3.8/random.py:363\u001b[0m, in \u001b[0;36mRandom.sample\u001b[0;34m(self, population, k)\u001b[0m\n\u001b[1;32m    361\u001b[0m n \u001b[38;5;241m=\u001b[39m \u001b[38;5;28mlen\u001b[39m(population)\n\u001b[1;32m    362\u001b[0m \u001b[38;5;28;01mif\u001b[39;00m \u001b[38;5;129;01mnot\u001b[39;00m \u001b[38;5;241m0\u001b[39m \u001b[38;5;241m<\u001b[39m\u001b[38;5;241m=\u001b[39m k \u001b[38;5;241m<\u001b[39m\u001b[38;5;241m=\u001b[39m n:\n\u001b[0;32m--> 363\u001b[0m     \u001b[38;5;28;01mraise\u001b[39;00m \u001b[38;5;167;01mValueError\u001b[39;00m(\u001b[38;5;124m\"\u001b[39m\u001b[38;5;124mSample larger than population or is negative\u001b[39m\u001b[38;5;124m\"\u001b[39m)\n\u001b[1;32m    364\u001b[0m result \u001b[38;5;241m=\u001b[39m [\u001b[38;5;28;01mNone\u001b[39;00m] \u001b[38;5;241m*\u001b[39m k\n\u001b[1;32m    365\u001b[0m setsize \u001b[38;5;241m=\u001b[39m \u001b[38;5;241m21\u001b[39m        \u001b[38;5;66;03m# size of a small set minus size of an empty list\u001b[39;00m\n",
      "\u001b[0;31mValueError\u001b[0m: Sample larger than population or is negative"
     ]
    }
   ],
   "source": [
    "######隨機取照片\n",
    "import cv2\n",
    "import random\n",
    "import os\n",
    "\n",
    "# 檔案路徑與輸出資料夾\n",
    "video_path = 'your_video.avi'  # 替換為你的 .avi 檔案路徑\n",
    "output_folder = 'frames'       # 儲存幀的資料夾\n",
    "os.makedirs(output_folder, exist_ok=True)\n",
    "\n",
    "# 打開影片檔案\n",
    "cap = cv2.VideoCapture(video_path)\n",
    "if not cap.isOpened():\n",
    "    print(\"無法打開影片檔案\")\n",
    "    exit()\n",
    "\n",
    "# 取得影片資訊\n",
    "total_frames = int(cap.get(cv2.CAP_PROP_FRAME_COUNT))\n",
    "print(f\"影片總幀數: {total_frames}\")\n",
    "\n",
    "# 隨機選擇 20 個幀號\n",
    "random_frames = random.sample(range(total_frames), 20)\n",
    "random_frames.sort()\n",
    "print(f\"選擇的幀號: {random_frames}\")\n",
    "\n",
    "# 擷取並保存幀\n",
    "for i, frame_no in enumerate(random_frames):\n",
    "    cap.set(cv2.CAP_PROP_POS_FRAMES, frame_no)  # 移動到指定幀\n",
    "    ret, frame = cap.read()                    # 讀取幀\n",
    "    if ret:\n",
    "        output_path = os.path.join(output_folder, f'frame_{i + 1}.jpg')\n",
    "        cv2.imwrite(output_path, frame)        # 保存幀為圖片\n",
    "        print(f\"保存幀 {frame_no} 到 {output_path}\")\n",
    "    else:\n",
    "        print(f\"無法讀取幀 {frame_no}\")\n",
    "\n",
    "# 釋放資源\n",
    "cap.release()\n",
    "print(\"完成！\")"
   ]
  },
  {
   "cell_type": "code",
   "execution_count": 1,
   "id": "9b1465be-a4e7-4164-91b1-abffedb61f6c",
   "metadata": {},
   "outputs": [
    {
     "name": "stdout",
     "output_type": "stream",
     "text": [
      "目前工作目錄: /home/linlab/Documents/Matthew/code/DLC/frames\n"
     ]
    }
   ],
   "source": [
    "#以下為影像校正的參數設定\n",
    "import numpy as np\n",
    "import cv2 as cv\n",
    "import glob\n",
    "import os\n",
    "import csv\n",
    "# 進入該資料夾\n",
    "os.chdir(\"frames\")\n",
    "\n",
    "# 驗證目前的工作目錄\n",
    "print(\"目前工作目錄:\", os.getcwd())"
   ]
  },
  {
   "cell_type": "code",
   "execution_count": 2,
   "id": "e25934fe-9205-4e73-a97e-0b61fdfa0906",
   "metadata": {},
   "outputs": [
    {
     "ename": "NameError",
     "evalue": "name 'gray' is not defined",
     "output_type": "error",
     "traceback": [
      "\u001b[0;31m---------------------------------------------------------------------------\u001b[0m",
      "\u001b[0;31mNameError\u001b[0m                                 Traceback (most recent call last)",
      "Cell \u001b[0;32mIn[2], line 32\u001b[0m\n\u001b[1;32m     27\u001b[0m         imgpoints\u001b[38;5;241m.\u001b[39mappend(corners2)\n\u001b[1;32m     30\u001b[0m cv\u001b[38;5;241m.\u001b[39mdestroyAllWindows()\n\u001b[0;32m---> 32\u001b[0m ret, mtx, dist, rvecs, tvecs \u001b[38;5;241m=\u001b[39m cv\u001b[38;5;241m.\u001b[39mcalibrateCamera(objpoints, imgpoints, \u001b[43mgray\u001b[49m\u001b[38;5;241m.\u001b[39mshape[::\u001b[38;5;241m-\u001b[39m\u001b[38;5;241m1\u001b[39m], \u001b[38;5;28;01mNone\u001b[39;00m, \u001b[38;5;28;01mNone\u001b[39;00m)\n\u001b[1;32m     34\u001b[0m k1 \u001b[38;5;241m=\u001b[39m dist[\u001b[38;5;241m0\u001b[39m][\u001b[38;5;241m0\u001b[39m]\n\u001b[1;32m     35\u001b[0m k2 \u001b[38;5;241m=\u001b[39m dist[\u001b[38;5;241m0\u001b[39m][\u001b[38;5;241m1\u001b[39m]\n",
      "\u001b[0;31mNameError\u001b[0m: name 'gray' is not defined"
     ]
    }
   ],
   "source": [
    "data=[] \n",
    "# termination criteria\n",
    "criteria = (cv.TERM_CRITERIA_EPS + cv.TERM_CRITERIA_MAX_ITER, 30, 0.001)\n",
    "\n",
    "# prepare object points, like (0,0,0), (1,0,0), (2,0,0) ....,(6,5,0)\n",
    "objp = np.zeros((6*7,3), np.float32)\n",
    "objp[:,:2] = np.mgrid[0:7,0:6].T.reshape(-1,2)\n",
    "\n",
    "# Arrays to store object points and image points from all the images.\n",
    "objpoints = [] # 3d point in real world space\n",
    "imgpoints = [] # 2d points in image plane.\n",
    "\n",
    "images = glob.glob('*.jpg')\n",
    "\n",
    "for fname in images:\n",
    "    img = cv.imread(fname)\n",
    "    gray = cv.cvtColor(img, cv.COLOR_BGR2GRAY)\n",
    "\n",
    "    # Find the chess board corners\n",
    "    ret, corners = cv.findChessboardCorners(gray, (7,6), None)\n",
    "\n",
    "    # If found, add object points, image points (after refining them)\n",
    "    if ret == True:\n",
    "        objpoints.append(objp)\n",
    "\n",
    "        corners2 = cv.cornerSubPix(gray,corners, (11,11), (-1,-1), criteria)\n",
    "        imgpoints.append(corners2)\n",
    "\n",
    "\n",
    "cv.destroyAllWindows()\n",
    "\n",
    "ret, mtx, dist, rvecs, tvecs = cv.calibrateCamera(objpoints, imgpoints, gray.shape[::-1], None, None)\n",
    "\n",
    "k1 = dist[0][0]\n",
    "k2 = dist[0][1]\n",
    "\n",
    "mean_error = 0\n",
    "for i in range(len(objpoints)):\n",
    "    imgpoints2, _ = cv.projectPoints(objpoints[i], rvecs[i], tvecs[i], mtx, dist)\n",
    "    error = cv.norm(imgpoints[i], imgpoints2, cv.NORM_L2)/len(imgpoints2)\n",
    "    mean_error += error\n",
    "\n",
    "print( \"total error: {}\".format(mean_error/len(objpoints)) )\n",
    "data.append(k1)\n",
    "data.append(k2)"
   ]
  },
  {
   "cell_type": "code",
   "execution_count": null,
   "id": "29a4a35e-2e17-42ad-8a72-e6dea4e6ac77",
   "metadata": {},
   "outputs": [],
   "source": [
    "######儲存資料\n",
    "os.chdir(\"..\")\n",
    "with open('data.csv', 'w', newline='') as file:\n",
    "    writer = csv.writer(file)\n",
    "    writer.writerow(data)"
   ]
  }
 ],
 "metadata": {
  "kernelspec": {
   "display_name": "Python [conda env:DLC] *",
   "language": "python",
   "name": "conda-env-DLC-py"
  },
  "language_info": {
   "codemirror_mode": {
    "name": "ipython",
    "version": 3
   },
   "file_extension": ".py",
   "mimetype": "text/x-python",
   "name": "python",
   "nbconvert_exporter": "python",
   "pygments_lexer": "ipython3",
   "version": "3.8.20"
  }
 },
 "nbformat": 4,
 "nbformat_minor": 5
}
