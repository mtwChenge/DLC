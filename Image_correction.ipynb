{
 "cells": [
  {
   "cell_type": "code",
   "execution_count": null,
   "id": "8bdba8aa-22a6-46d1-a0ec-15e5411e72da",
   "metadata": {},
   "outputs": [],
   "source": [
    "#########\n",
    "#Matthew\n",
    "#20250102"
   ]
  },
  {
   "cell_type": "code",
   "execution_count": null,
   "id": "b2043f23-1f85-40e4-ae6e-6950a0771e37",
   "metadata": {},
   "outputs": [],
   "source": [
    "#指定目標資料夾的路徑\n",
    "#影片輸出地\n",
    "output_foider=\"\"\n",
    "#輸入全域地址，影片的儲存地\n",
    "target_folder = \"/Users/matthew/Documents/lab/code/Deeplabcut/test\""
   ]
  },
  {
   "cell_type": "code",
   "execution_count": null,
   "id": "8e09bbed-f048-4f83-baeb-ccf7043c5830",
   "metadata": {},
   "outputs": [],
   "source": [
    "#讀取 CSV 檔案\n",
    "import csv\n",
    "data=[]\n",
    "try:\n",
    "    with open('list.csv', 'r') as file:\n",
    "        reader = csv.reader(file)\n",
    "        for row in reader:\n",
    "            for k in row.split():\n",
    "                data.append(k)\n",
    "except:\n",
    "    print(\"沒有資料，要跑校正\"）"
   ]
  },
  {
   "cell_type": "code",
   "execution_count": null,
   "id": "553ca998-a2bd-49ef-b6d5-a05e073b8bf9",
   "metadata": {},
   "outputs": [],
   "source": [
    "#以下校正影像\n",
    "import os\n",
    "import subprocess\n",
    "\n",
    "# 定義輸入與輸出資料夾\n",
    "input_folder = target_folder\n",
    "output_folder = output_foider\n",
    "\n",
    "# 確保輸出資料夾存在\n",
    "os.makedirs(output_folder, exist_ok=True)\n",
    "\n",
    "# 遍歷所有 MP4 檔案\n",
    "for filename in os.listdir(input_folder):\n",
    "    if filename.endswith(\".mp4\"):\n",
    "        input_path = os.path.join(input_folder, filename)\n",
    "        output_path = os.path.join(output_folder, filename)\n",
    "        \n",
    "        # 構造 FFmpeg 命令\n",
    "        command = [\n",
    "            \"ffmpeg\", \"-i\", input_path,\n",
    "            \"-vf\", \"lenscorrection=kx=\"+str(data[0])+\":ky=\"+str(data[1]),\n",
    "            output_path\n",
    "        ]\n",
    "        \n",
    "        # 執行 FFmpeg 命令\n",
    "        print(f\"Processing {input_path} -> {output_path}\")\n",
    "        subprocess.run(command, stdout=subprocess.PIPE, stderr=subprocess.PIPE)\n",
    "        \n",
    "print(\"All videos processed.\")"
   ]
  },
  {
   "cell_type": "code",
   "execution_count": null,
   "id": "104dea76-e4b8-449e-b0b9-6a49bf5e2303",
   "metadata": {},
   "outputs": [],
   "source": [
    "#以下為影像校正的參數設定\n",
    "import numpy as np\n",
    "import cv2 as cv\n",
    "import glob\n",
    "import os\n",
    "import csv\n",
    "\n",
    "# 進入該資料夾\n",
    "os.chdir(target_folder)\n",
    "\n",
    "# 驗證目前的工作目錄\n",
    "print(\"目前工作目錄:\", os.getcwd())"
   ]
  },
  {
   "cell_type": "code",
   "execution_count": null,
   "id": "06bce928-bc65-4814-8c5f-7ca4401dbd20",
   "metadata": {},
   "outputs": [],
   "source": [
    "data=[]\n",
    "# termination criteria\n",
    "criteria = (cv.TERM_CRITERIA_EPS + cv.TERM_CRITERIA_MAX_ITER, 30, 0.001)\n",
    "\n",
    "# prepare object points, like (0,0,0), (1,0,0), (2,0,0) ....,(6,5,0)\n",
    "objp = np.zeros((6*7,3), np.float32)\n",
    "objp[:,:2] = np.mgrid[0:7,0:6].T.reshape(-1,2)\n",
    "\n",
    "# Arrays to store object points and image points from all the images.\n",
    "objpoints = [] # 3d point in real world space\n",
    "imgpoints = [] # 2d points in image plane.\n",
    "\n",
    "images = glob.glob('*.jpg')\n",
    "\n",
    "for fname in images:\n",
    "    img = cv.imread(fname)\n",
    "    gray = cv.cvtColor(img, cv.COLOR_BGR2GRAY)\n",
    "\n",
    "    # Find the chess board corners\n",
    "    ret, corners = cv.findChessboardCorners(gray, (7,6), None)\n",
    "\n",
    "    # If found, add object points, image points (after refining them)\n",
    "    if ret == True:\n",
    "        objpoints.append(objp)\n",
    "\n",
    "        corners2 = cv.cornerSubPix(gray,corners, (11,11), (-1,-1), criteria)\n",
    "        imgpoints.append(corners2)\n",
    "\n",
    "\n",
    "cv.destroyAllWindows()\n",
    "\n",
    "ret, mtx, dist, rvecs, tvecs = cv.calibrateCamera(objpoints, imgpoints, gray.shape[::-1], None, None)\n",
    "\n",
    "k1 = dist[0][0]\n",
    "k2 = dist[0][1]\n",
    "\n",
    "mean_error = 0\n",
    "for i in range(len(objpoints)):\n",
    "    imgpoints2, _ = cv.projectPoints(objpoints[i], rvecs[i], tvecs[i], mtx, dist)\n",
    "    error = cv.norm(imgpoints[i], imgpoints2, cv.NORM_L2)/len(imgpoints2)\n",
    "    mean_error += error\n",
    "\n",
    "print( \"total error: {}\".format(mean_error/len(objpoints)) )\n",
    "data.append(k1)\n",
    "data.append(k2)\n",
    "\n",
    "with open('data.csv', 'w', newline='') as file:\n",
    "    writer = csv.writer(file)\n",
    "    writer.writerow(data)"
   ]
  }
 ],
 "metadata": {
  "kernelspec": {
   "display_name": "Python 3 (ipykernel)",
   "language": "python",
   "name": "python3"
  },
  "language_info": {
   "codemirror_mode": {
    "name": "ipython",
    "version": 3
   },
   "file_extension": ".py",
   "mimetype": "text/x-python",
   "name": "python",
   "nbconvert_exporter": "python",
   "pygments_lexer": "ipython3",
   "version": "3.12.4"
  }
 },
 "nbformat": 4,
 "nbformat_minor": 5
}
