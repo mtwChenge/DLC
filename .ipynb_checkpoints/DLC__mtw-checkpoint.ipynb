{
 "cells": [
  {
   "cell_type": "code",
   "execution_count": 2,
   "id": "960b541f-9faa-4c47-a4ab-04555f24b710",
   "metadata": {},
   "outputs": [],
   "source": [
    "##############\n",
    "#Matthew\n",
    "#2024-12-27"
   ]
  },
  {
   "cell_type": "code",
   "execution_count": null,
   "id": "af91ffa0-dcb4-4f7a-b648-fff094529f6b",
   "metadata": {},
   "outputs": [],
   "source": [
    "#####轉檔\n",
    "!scp <source> <destination>"
   ]
  },
  {
   "cell_type": "code",
   "execution_count": null,
   "id": "e058d00b-6bfb-459a-8655-1f26cf6638b2",
   "metadata": {},
   "outputs": [],
   "source": [
    "#go to direct and open env\n",
    "!cd Desktop/Matthew\n",
    "!conda activate DEEPLABCUT__NEW"
   ]
  },
  {
   "cell_type": "code",
   "execution_count": null,
   "id": "619ab6d1-1360-4acd-9265-0b27bd1a3dc3",
   "metadata": {},
   "outputs": [],
   "source": [
    "#check DLC version\n",
    "#import deeplabcut deeplabcut.__version__"
   ]
  },
  {
   "cell_type": "code",
   "execution_count": null,
   "id": "88e727a9-e6ae-4eb3-8073-bfaf81e9f242",
   "metadata": {},
   "outputs": [],
   "source": [
    "#update DLC \n",
    "#not nessery, and no need to do \n",
    "#!pip install --upgrade deeplabcut"
   ]
  },
  {
   "cell_type": "code",
   "execution_count": 1,
   "id": "db0c4613-7468-4a09-85a6-99c9104613d4",
   "metadata": {},
   "outputs": [
    {
     "name": "stdout",
     "output_type": "stream",
     "text": [
      "/opt/anaconda3/envs/lab/bin/python: No module named deeplabcut\n"
     ]
    }
   ],
   "source": [
    "#open GUI mode \n",
    "!python -m deeplabcut"
   ]
  },
  {
   "cell_type": "code",
   "execution_count": null,
   "id": "f695c961-67e4-4d28-99f7-95c4015ec335",
   "metadata": {},
   "outputs": [],
   "source": [
    "#check GPU usage \n",
    "!nvidia-smi"
   ]
  },
  {
   "cell_type": "code",
   "execution_count": null,
   "id": "86aaba79-3315-4d37-969d-e3c2396f74ca",
   "metadata": {},
   "outputs": [],
   "source": []
  }
 ],
 "metadata": {
  "kernelspec": {
   "display_name": "Python 3 (ipykernel)",
   "language": "python",
   "name": "python3"
  },
  "language_info": {
   "codemirror_mode": {
    "name": "ipython",
    "version": 3
   },
   "file_extension": ".py",
   "mimetype": "text/x-python",
   "name": "python",
   "nbconvert_exporter": "python",
   "pygments_lexer": "ipython3",
   "version": "3.12.4"
  }
 },
 "nbformat": 4,
 "nbformat_minor": 5
}
