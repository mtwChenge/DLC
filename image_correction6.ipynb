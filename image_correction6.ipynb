{
 "cells": [
  {
   "cell_type": "code",
   "execution_count": 26,
   "id": "c4f30de1-cee9-493a-a043-1b58fe194885",
   "metadata": {},
   "outputs": [],
   "source": [
    "# 設定影片資料夾\n",
    "import os\n",
    "input_folder = \"video\"\n",
    "output_folder = \"output\""
   ]
  },
  {
   "cell_type": "code",
   "execution_count": 37,
   "id": "406da6fa-3034-4826-99b9-0ccb74bfb526",
   "metadata": {},
   "outputs": [
    {
     "name": "stdout",
     "output_type": "stream",
     "text": [
      "目前工作目錄: /Users/linlab/Documents\n"
     ]
    }
   ],
   "source": [
    "print(\"目前工作目錄:\", os.getcwd())"
   ]
  },
  {
   "cell_type": "code",
   "execution_count": 29,
   "id": "22302b46-a576-4270-9990-bea3c1268987",
   "metadata": {},
   "outputs": [
    {
     "name": "stdout",
     "output_type": "stream",
     "text": [
      "[] []\n",
      "慘\n"
     ]
    },
    {
     "data": {
      "text/plain": [
       "'\\nffmpeg -i {input} -strict -2 {output}.mp4 \\n如果要直接在terminal上跑，使用上面這行\\n'"
      ]
     },
     "execution_count": 29,
     "metadata": {},
     "output_type": "execute_result"
    }
   ],
   "source": [
    "####影片轉檔\n",
    "import os\n",
    "\n",
    "\n",
    "#from moviepy.editor import VideoFileClip 爛東西，搞死我，放著紀念\n",
    "\n",
    "format_list = ['avi','mov','wmv','flv','asf', 'mkv']\n",
    "\n",
    "file_name=os.listdir(input_folder)\n",
    "video_name=[]\n",
    "for k in file_name:\n",
    "    dd=k.split(\".\")\n",
    "    if dd[-1]==\"avi\":\n",
    "        video_name.append(k)\n",
    "os.chdir(input_folder)  # 使用 Colab 要換路徑使用\n",
    "#print(video_name)\n",
    "\n",
    "out=[]\n",
    "for k in video_name:\n",
    "    k=k.split(\".\")\n",
    "    out.append(k[0]+\"_new\")\n",
    "print(out,video_name)\n",
    "i=0\n",
    "for k in video_name:\n",
    "    os.popen(\"ffmpeg -i {input}  {output}.mp4\".format(input = k, output = out[i]))\n",
    "    i+=1\n",
    "print('慘')\n",
    "\n",
    "\"\"\"\n",
    "ffmpeg -i {input} -strict -2 {output}.mp4 \n",
    "如果要直接在terminal上跑，使用上面這行\n",
    "\"\"\""
   ]
  },
  {
   "cell_type": "code",
   "execution_count": 31,
   "id": "889ab433-c3c0-4e47-b05c-8dbafc5e0d6c",
   "metadata": {},
   "outputs": [],
   "source": [
    "####返回原本的位置\n",
    "os.chdir(\"..\")"
   ]
  },
  {
   "cell_type": "code",
   "execution_count": 32,
   "id": "943071e5-ec46-4d77-9a79-8d92db627d51",
   "metadata": {},
   "outputs": [],
   "source": [
    "####影像修正\n",
    "####如不需進行鏡頭參數校正 可直截跳到下面"
   ]
  },
  {
   "cell_type": "code",
   "execution_count": 33,
   "id": "2985241c-0804-456b-bede-ca9af259a6e5",
   "metadata": {},
   "outputs": [],
   "source": [
    "# 檔案路徑與輸出資料夾\n",
    "import os\n",
    "video_path = '20250213_174956_601_20250213174955.avi'  # 替換為你的 .avi 檔案路徑\n",
    "output_folder = 'frames'       # 儲存幀的資料夾"
   ]
  },
  {
   "cell_type": "code",
   "execution_count": 34,
   "id": "d1751910-3739-4f2f-9514-c011c27eb6e8",
   "metadata": {},
   "outputs": [
    {
     "name": "stdout",
     "output_type": "stream",
     "text": [
      "保存幀 60 到 frames/frame_1.jpg\n",
      "保存幀 135 到 frames/frame_2.jpg\n",
      "保存幀 160 到 frames/frame_3.jpg\n",
      "保存幀 295 到 frames/frame_4.jpg\n",
      "保存幀 303 到 frames/frame_5.jpg\n",
      "保存幀 326 到 frames/frame_6.jpg\n",
      "保存幀 333 到 frames/frame_7.jpg\n",
      "保存幀 334 到 frames/frame_8.jpg\n",
      "保存幀 338 到 frames/frame_9.jpg\n",
      "保存幀 408 到 frames/frame_10.jpg\n",
      "保存幀 414 到 frames/frame_11.jpg\n",
      "保存幀 485 到 frames/frame_12.jpg\n",
      "保存幀 584 到 frames/frame_13.jpg\n",
      "保存幀 601 到 frames/frame_14.jpg\n",
      "保存幀 872 到 frames/frame_15.jpg\n",
      "保存幀 875 到 frames/frame_16.jpg\n",
      "保存幀 917 到 frames/frame_17.jpg\n",
      "保存幀 976 到 frames/frame_18.jpg\n",
      "保存幀 1029 到 frames/frame_19.jpg\n",
      "保存幀 1130 到 frames/frame_20.jpg\n",
      "完成！\n"
     ]
    }
   ],
   "source": [
    "#隨機選取照片\n",
    "import cv2\n",
    "import random\n",
    "# 打開影片檔案\n",
    "cap = cv2.VideoCapture(video_path)\n",
    "if not cap.isOpened():\n",
    "    print(\"無法打開影片檔案\")\n",
    "    exit()\n",
    "\n",
    "# 取得影片資訊\n",
    "total_frames = int(cap.get(cv2.CAP_PROP_FRAME_COUNT))\n",
    "\n",
    "# 隨機選擇 20 個幀號\n",
    "random_frames = random.sample(range(total_frames), 20)\n",
    "random_frames.sort()\n",
    "\n",
    "# 擷取並保存幀\n",
    "for i, frame_no in enumerate(random_frames):\n",
    "    cap.set(cv2.CAP_PROP_POS_FRAMES, frame_no)  # 移動到指定幀\n",
    "    ret, frame = cap.read()                    # 讀取幀\n",
    "    if ret:\n",
    "        output_path = os.path.join(output_folder, f'frame_{i + 1}.jpg')\n",
    "        cv2.imwrite(output_path, frame)        # 保存幀為圖片\n",
    "        print(f\"保存幀 {frame_no} 到 {output_path}\")\n",
    "    else:\n",
    "        print(f\"無法讀取幀 {frame_no}\")\n",
    "\n",
    "# 釋放資源\n",
    "cap.release()\n",
    "print(\"完成！\")"
   ]
  },
  {
   "cell_type": "code",
   "execution_count": 39,
   "id": "10d78259-9b6e-4c80-9835-6b4c2a083cbb",
   "metadata": {},
   "outputs": [],
   "source": [
    "#利用照片進行校正\n",
    "\n",
    "\n",
    "# 設定棋盤格的內部角點數量 (cols, rows)\n",
    "chessboard_size = (6, 7)\n",
    "\n",
    "#進入資料夾\n",
    "os.chdir(output_folder)\n",
    "\n",
    "import numpy as np\n",
    "import glob\n",
    "import cv2 as cv\n",
    "\n",
    "# termination criteria\n",
    "criteria = (cv.TERM_CRITERIA_EPS + cv.TERM_CRITERIA_MAX_ITER, 30, 0.001)\n",
    " \n",
    "# prepare object points, like (0,0,0), (1,0,0), (2,0,0) ....,(6,5,0)\n",
    "objp = np.zeros((chessboard_size[0]*chessboard_size[1],3), np.float32)\n",
    "objp[:,:2] = np.mgrid[0:chessboard_size[0],0:chessboard_size[1]].T.reshape(-1,2)\n",
    " \n",
    "# Arrays to store object points and image points from all the images.\n",
    "objpoints = [] # 3d point in real world space\n",
    "imgpoints = [] # 2d points in image plane.\n",
    " \n",
    "images = glob.glob('*.jpg')\n",
    " \n",
    "for fname in images:\n",
    "    img = cv.imread(fname)\n",
    "    gray = cv.cvtColor(img, cv.COLOR_BGR2GRAY)\n",
    " \n",
    "    # Find the chess board corners\n",
    "    ret, corners = cv.findChessboardCorners(gray, (chessboard_size[0],chessboard_size[1]), None)\n",
    " \n",
    "    # If found, add object points, image points (after refining them)\n",
    "    if ret:\n",
    "        objpoints.append(objp)\n",
    " \n",
    "        corners2 = cv.cornerSubPix(gray,corners, (11,11), (-1,-1), criteria)\n",
    "        imgpoints.append(corners2)\n",
    "\n",
    "ret, mtx, dist, rvecs, tvecs = cv.calibrateCamera(objpoints, imgpoints, gray.shape[::-1], None, None)"
   ]
  },
  {
   "cell_type": "code",
   "execution_count": 40,
   "id": "f45a63cd-07f5-4349-b057-7014c50efc29",
   "metadata": {},
   "outputs": [],
   "source": [
    "####返回原本的位置\n",
    "os.chdir(\"..\")"
   ]
  },
  {
   "cell_type": "code",
   "execution_count": 41,
   "id": "46479bcd-de2f-44ea-8ee5-5896addb3fc1",
   "metadata": {},
   "outputs": [],
   "source": [
    "#儲存參數\n",
    "np.savez('data.npz', mtx=mtx, dist=dist)"
   ]
  },
  {
   "cell_type": "code",
   "execution_count": 42,
   "id": "cb1c4a90-03e2-442e-a28c-61d52425a52d",
   "metadata": {},
   "outputs": [
    {
     "name": "stdout",
     "output_type": "stream",
     "text": [
      "相機矩陣 (Camera Matrix):\n",
      " [[955.91523669   0.         415.40649808]\n",
      " [  0.         627.69757974 258.04847792]\n",
      " [  0.           0.           1.        ]]\n",
      "畸變係數 (Distortion Coefficients):\n",
      " [[-0.62469404  0.79207032 -0.00383659  0.01341145 -0.84251035]]\n"
     ]
    }
   ],
   "source": [
    "\n",
    "print(\"相機矩陣 (Camera Matrix):\\n\", mtx)\n",
    "print(\"畸變係數 (Distortion Coefficients):\\n\", dist)"
   ]
  },
  {
   "cell_type": "code",
   "execution_count": null,
   "id": "e6f29b6f-fd46-4712-9807-3cc929f4001f",
   "metadata": {},
   "outputs": [
    {
     "name": "stdout",
     "output_type": "stream",
     "text": [
      "處理影片: 20250213_174956_601_20250213174955_new.mp4 -> frames/undistorted_20250213_174956_601_20250213174955_new.mp4\n",
      "✅ 已完成: frames/undistorted_20250213_174956_601_20250213174955_new.mp4\n",
      "處理影片: 20250103_155020_601_20250103155020_new.mp4 -> frames/undistorted_20250103_155020_601_20250103155020_new.mp4\n",
      "✅ 已完成: frames/undistorted_20250103_155020_601_20250103155020_new.mp4\n",
      "處理影片: 20231122_153144_603_20231122153143_new.mp4 -> frames/undistorted_20231122_153144_603_20231122153143_new.mp4\n"
     ]
    }
   ],
   "source": [
    "#校正影片\n",
    "import numpy as np\n",
    "\n",
    "#讀取之前的參數\n",
    "#with open('data.csv', mode='r', newline='') as file:\n",
    "    #reader = csv.reader(file)\n",
    "    #data = list(reader)\n",
    "    #mtx=data[0]\n",
    "    #dist=data[1]\n",
    "data = np.load('data.npz')\n",
    "mtx=data['mtx']\n",
    "dist=data['dist']\n",
    "\n",
    "# 確保輸出資料夾存在\n",
    "os.makedirs(output_folder, exist_ok=True)\n",
    "\n",
    "mtx=np.array(mtx, dtype=np.float32)\n",
    "dist=np.array(dist)\n",
    "# 取得所有影片檔案\n",
    "video_files = [f for f in os.listdir(input_folder) if f.endswith(('.mp4'))]\n",
    "\n",
    "# 遍歷所有影片\n",
    "for video_file in video_files:\n",
    "    input_path = os.path.join(input_folder, video_file)\n",
    "    output_path = os.path.join(output_folder, f\"undistorted_{video_file}\")\n",
    "\n",
    "    print(f\"處理影片: {video_file} -> {output_path}\")\n",
    "\n",
    "    # 讀取影片\n",
    "    cap = cv2.VideoCapture(input_path)\n",
    "\n",
    "    # 取得影片的基本資訊\n",
    "    frame_width = int(cap.get(cv2.CAP_PROP_FRAME_WIDTH))\n",
    "    frame_height = int(cap.get(cv2.CAP_PROP_FRAME_HEIGHT))\n",
    "    fps = int(cap.get(cv2.CAP_PROP_FPS))\n",
    "\n",
    "    # 定義影片輸出編碼格式\n",
    "    fourcc = cv2.VideoWriter_fourcc(*\"mp4v\")  # MP4 格式\n",
    "    out = cv2.VideoWriter(output_path, fourcc, fps, (frame_width, frame_height))\n",
    "\n",
    "    # 計算新的相機矩陣\n",
    "    new_mtx, roi = cv2.getOptimalNewCameraMatrix(mtx, dist, \n",
    "                                                           (frame_width, frame_height), 1, \n",
    "                                                           (frame_width, frame_height))\n",
    "\n",
    "    # 預先計算映射表\n",
    "    mapx, mapy = cv2.initUndistortRectifyMap(mtx, dist, None, \n",
    "                                              new_mtx, (frame_width, frame_height), cv2.CV_32FC1)\n",
    "\n",
    "    # 讀取並處理影片\n",
    "    while cap.isOpened():#確定打開影片\n",
    "        ret, frame = cap.read()\n",
    "        if not ret:\n",
    "            break  # 影片播放完畢\n",
    "\n",
    "        # 校正畫面\n",
    "        undistorted_frame = cv2.remap(frame, mapx, mapy, cv2.INTER_LINEAR)\n",
    "\n",
    "        # 寫入校正後的影片\n",
    "        out.write(undistorted_frame)\n",
    "\n",
    "    # 釋放資源\n",
    "    cap.release()\n",
    "    out.release()\n",
    "    cv.destroyAllWindows()\n",
    "    \n",
    "    print(f\"✅ 已完成: {output_path}\")\n",
    "\n",
    "print(\" 所有影片處理完成！\")"
   ]
  }
 ],
 "metadata": {
  "kernelspec": {
   "display_name": "Python 3 (ipykernel)",
   "language": "python",
   "name": "python3"
  },
  "language_info": {
   "codemirror_mode": {
    "name": "ipython",
    "version": 3
   },
   "file_extension": ".py",
   "mimetype": "text/x-python",
   "name": "python",
   "nbconvert_exporter": "python",
   "pygments_lexer": "ipython3",
   "version": "3.12.2"
  }
 },
 "nbformat": 4,
 "nbformat_minor": 5
}
