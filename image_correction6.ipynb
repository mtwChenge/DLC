{
 "cells": [
  {
   "cell_type": "code",
   "execution_count": null,
   "id": "c4f30de1-cee9-493a-a043-1b58fe194885",
   "metadata": {},
   "outputs": [],
   "source": [
    "# 設定影片資料夾\n",
    "input_folder = \"video\"\n",
    "output_folder = \"output\""
   ]
  },
  {
   "cell_type": "code",
   "execution_count": null,
   "id": "22302b46-a576-4270-9990-bea3c1268987",
   "metadata": {},
   "outputs": [],
   "source": [
    "####影片轉檔\n",
    "import os\n",
    "os.chdir('input_folder')  # 使用 Colab 要換路徑使用\n",
    "\n",
    "#from moviepy.editor import VideoFileClip 爛東西，搞死我，放著紀念\n",
    "\n",
    "format_list = ['avi','mov','wmv','flv','asf', 'mkv']\n",
    "\n",
    "file_name=os.listdir('input_folder')\n",
    "video_name=[]\n",
    "for k in file_name:\n",
    "    dd=k.split(\".\")\n",
    "    if dd[-1]==\"avi\":\n",
    "        video_name.append(k)\n",
    "\n",
    "#print(video_name)\n",
    "\n",
    "out=[]\n",
    "for k in video_name:\n",
    "    k=k.split(\".\")\n",
    "    out.append(k[0]+\"_new\")\n",
    "print(out,video_name)\n",
    "i=0\n",
    "for k in video_name:\n",
    "    os.popen(\"ffmpeg -i {input}  {output}.mp4\".format(input = k, output = out[i]))\n",
    "    i+=1\n",
    "print('慘')\n",
    "\n",
    "\"\"\"\n",
    "ffmpeg -i {input} -strict -2 {output}.mp4 \n",
    "如果要直接在terminal上跑，使用上面這行\n",
    "\"\"\""
   ]
  },
  {
   "cell_type": "code",
   "execution_count": null,
   "id": "889ab433-c3c0-4e47-b05c-8dbafc5e0d6c",
   "metadata": {},
   "outputs": [],
   "source": [
    "####返回原本的位置\n",
    "os.chdir(\"..\")"
   ]
  },
  {
   "cell_type": "code",
   "execution_count": 1,
   "id": "943071e5-ec46-4d77-9a79-8d92db627d51",
   "metadata": {},
   "outputs": [],
   "source": [
    "####影像修正\n",
    "####如不需進行鏡頭參數校正 可直截跳到下面"
   ]
  },
  {
   "cell_type": "code",
   "execution_count": 3,
   "id": "2985241c-0804-456b-bede-ca9af259a6e5",
   "metadata": {},
   "outputs": [],
   "source": [
    "# 檔案路徑與輸出資料夾\n",
    "import os\n",
    "video_path = 'your_video.avi'  # 替換為你的 .avi 檔案路徑\n",
    "output_folder = 'frames'       # 儲存幀的資料夾"
   ]
  },
  {
   "cell_type": "code",
   "execution_count": 4,
   "id": "d1751910-3739-4f2f-9514-c011c27eb6e8",
   "metadata": {},
   "outputs": [
    {
     "ename": "ModuleNotFoundError",
     "evalue": "No module named 'cv2'",
     "output_type": "error",
     "traceback": [
      "\u001b[0;31m---------------------------------------------------------------------------\u001b[0m",
      "\u001b[0;31mModuleNotFoundError\u001b[0m                       Traceback (most recent call last)",
      "Cell \u001b[0;32mIn[4], line 2\u001b[0m\n\u001b[1;32m      1\u001b[0m \u001b[38;5;66;03m#隨機選取照片\u001b[39;00m\n\u001b[0;32m----> 2\u001b[0m \u001b[38;5;28;01mimport\u001b[39;00m \u001b[38;5;21;01mcv2\u001b[39;00m\n\u001b[1;32m      3\u001b[0m \u001b[38;5;28;01mimport\u001b[39;00m \u001b[38;5;21;01mrandom\u001b[39;00m\n",
      "\u001b[0;31mModuleNotFoundError\u001b[0m: No module named 'cv2'"
     ]
    }
   ],
   "source": [
    "#隨機選取照片\n",
    "import cv2\n",
    "import random\n",
    "# 打開影片檔案\n",
    "cap = cv2.VideoCapture(video_path)\n",
    "if not cap.isOpened():\n",
    "    print(\"無法打開影片檔案\")\n",
    "    exit()\n",
    "\n",
    "# 取得影片資訊\n",
    "total_frames = int(cap.get(cv2.CAP_PROP_FRAME_COUNT))\n",
    "\n",
    "# 隨機選擇 20 個幀號\n",
    "random_frames = random.sample(range(total_frames), 100)\n",
    "random_frames.sort()\n",
    "\n",
    "# 擷取並保存幀\n",
    "for i, frame_no in enumerate(random_frames):\n",
    "    cap.set(cv2.CAP_PROP_POS_FRAMES, frame_no)  # 移動到指定幀\n",
    "    ret, frame = cap.read()                    # 讀取幀\n",
    "    if ret:\n",
    "        output_path = os.path.join(output_folder, f'frame_{i + 1}.jpg')\n",
    "        cv2.imwrite(output_path, frame)        # 保存幀為圖片\n",
    "        print(f\"保存幀 {frame_no} 到 {output_path}\")\n",
    "    else:\n",
    "        print(f\"無法讀取幀 {frame_no}\")\n",
    "\n",
    "# 釋放資源\n",
    "cap.release()\n",
    "print(\"完成！\")"
   ]
  },
  {
   "cell_type": "code",
   "execution_count": 8,
   "id": "10d78259-9b6e-4c80-9835-6b4c2a083cbb",
   "metadata": {},
   "outputs": [
    {
     "ename": "FileNotFoundError",
     "evalue": "[Errno 2] No such file or directory: 'frames'",
     "output_type": "error",
     "traceback": [
      "\u001b[0;31m---------------------------------------------------------------------------\u001b[0m",
      "\u001b[0;31mFileNotFoundError\u001b[0m                         Traceback (most recent call last)",
      "Cell \u001b[0;32mIn[8], line 8\u001b[0m\n\u001b[1;32m      5\u001b[0m chessboard_size \u001b[38;5;241m=\u001b[39m (\u001b[38;5;241m9\u001b[39m, \u001b[38;5;241m6\u001b[39m)\n\u001b[1;32m      7\u001b[0m \u001b[38;5;66;03m#進入資料夾\u001b[39;00m\n\u001b[0;32m----> 8\u001b[0m os\u001b[38;5;241m.\u001b[39mchdir(output_folder)\n\u001b[1;32m     10\u001b[0m \u001b[38;5;28;01mimport\u001b[39;00m \u001b[38;5;21;01mnumpy\u001b[39;00m \u001b[38;5;28;01mas\u001b[39;00m \u001b[38;5;21;01mnp\u001b[39;00m\n\u001b[1;32m     11\u001b[0m \u001b[38;5;28;01mimport\u001b[39;00m \u001b[38;5;21;01mglob\u001b[39;00m\n",
      "\u001b[0;31mFileNotFoundError\u001b[0m: [Errno 2] No such file or directory: 'frames'"
     ]
    }
   ],
   "source": [
    "#利用照片進行校正\n",
    "\n",
    "\n",
    "# 設定棋盤格的內部角點數量 (cols, rows)\n",
    "chessboard_size = (9, 6)\n",
    "\n",
    "#進入資料夾\n",
    "os.chdir(output_folder)\n",
    "\n",
    "import numpy as np\n",
    "import glob\n",
    " \n",
    "# termination criteria\n",
    "criteria = (cv.TERM_CRITERIA_EPS + cv.TERM_CRITERIA_MAX_ITER, 30, 0.001)\n",
    " \n",
    "# prepare object points, like (0,0,0), (1,0,0), (2,0,0) ....,(6,5,0)\n",
    "objp = np.zeros((chessboard_size[0]*chessboard_size[1],3), np.float32)\n",
    "objp[:,:2] = np.mgrid[0:7,0:6].T.reshape(-1,2)\n",
    " \n",
    "# Arrays to store object points and image points from all the images.\n",
    "objpoints = [] # 3d point in real world space\n",
    "imgpoints = [] # 2d points in image plane.\n",
    " \n",
    "images = glob.glob('*.jpg')\n",
    " \n",
    "for fname in images:\n",
    "    img = cv.imread(fname)\n",
    "    gray = cv.cvtColor(img, cv.COLOR_BGR2GRAY)\n",
    " \n",
    "    # Find the chess board corners\n",
    "    ret, corners = cv.findChessboardCorners(gray, (7,6), None)\n",
    " \n",
    "    # If found, add object points, image points (after refining them)\n",
    "    if ret:\n",
    "        objpoints.append(objp)\n",
    " \n",
    "        corners2 = cv.cornerSubPix(gray,corners, (11,11), (-1,-1), criteria)\n",
    "        imgpoints.append(corners2)\n",
    "\n",
    "ret, mtx, dist, rvecs, tvecs = cv.calibrateCamera(objpoints, imgpoints, gray.shape[::-1], None, None)"
   ]
  },
  {
   "cell_type": "code",
   "execution_count": 7,
   "id": "5a037e99-66d2-4164-a8d6-4b5bcb85b257",
   "metadata": {},
   "outputs": [
    {
     "ename": "NameError",
     "evalue": "name 'mtx' is not defined",
     "output_type": "error",
     "traceback": [
      "\u001b[0;31m---------------------------------------------------------------------------\u001b[0m",
      "\u001b[0;31mNameError\u001b[0m                                 Traceback (most recent call last)",
      "Cell \u001b[0;32mIn[7], line 2\u001b[0m\n\u001b[1;32m      1\u001b[0m \u001b[38;5;66;03m#儲存參數\u001b[39;00m\n\u001b[0;32m----> 2\u001b[0m \u001b[38;5;28mprint\u001b[39m(\u001b[38;5;124m\"\u001b[39m\u001b[38;5;124m相機矩陣 (Camera Matrix):\u001b[39m\u001b[38;5;130;01m\\n\u001b[39;00m\u001b[38;5;124m\"\u001b[39m, mtx)\n\u001b[1;32m      3\u001b[0m \u001b[38;5;28mprint\u001b[39m(\u001b[38;5;124m\"\u001b[39m\u001b[38;5;124m畸變係數 (Distortion Coefficients):\u001b[39m\u001b[38;5;130;01m\\n\u001b[39;00m\u001b[38;5;124m\"\u001b[39m, dist)\n\u001b[1;32m      5\u001b[0m \u001b[38;5;28;01mwith\u001b[39;00m \u001b[38;5;28mopen\u001b[39m(\u001b[38;5;124m'\u001b[39m\u001b[38;5;124mdata.csv\u001b[39m\u001b[38;5;124m'\u001b[39m, mode\u001b[38;5;241m=\u001b[39m\u001b[38;5;124m'\u001b[39m\u001b[38;5;124mw\u001b[39m\u001b[38;5;124m'\u001b[39m, newline\u001b[38;5;241m=\u001b[39m\u001b[38;5;124m'\u001b[39m\u001b[38;5;124m'\u001b[39m) \u001b[38;5;28;01mas\u001b[39;00m file:\n",
      "\u001b[0;31mNameError\u001b[0m: name 'mtx' is not defined"
     ]
    }
   ],
   "source": [
    "#儲存參數\n",
    "print(\"相機矩陣 (Camera Matrix):\\n\", mtx)\n",
    "print(\"畸變係數 (Distortion Coefficients):\\n\", dist)\n",
    "\n",
    "with open('data.csv', mode='w', newline='') as file:\n",
    "    writer = csv.writer(file)\n",
    "    writer.write([mtx,dist])"
   ]
  },
  {
   "cell_type": "code",
   "execution_count": 10,
   "id": "e6f29b6f-fd46-4712-9807-3cc929f4001f",
   "metadata": {},
   "outputs": [
    {
     "ename": "FileNotFoundError",
     "evalue": "[Errno 2] No such file or directory: 'data.csv'",
     "output_type": "error",
     "traceback": [
      "\u001b[0;31m---------------------------------------------------------------------------\u001b[0m",
      "\u001b[0;31mFileNotFoundError\u001b[0m                         Traceback (most recent call last)",
      "Cell \u001b[0;32mIn[10], line 3\u001b[0m\n\u001b[1;32m      1\u001b[0m \u001b[38;5;66;03m#校正影片\u001b[39;00m\n\u001b[1;32m      2\u001b[0m \u001b[38;5;66;03m#讀取之前的參數\u001b[39;00m\n\u001b[0;32m----> 3\u001b[0m \u001b[38;5;28;01mwith\u001b[39;00m \u001b[38;5;28mopen\u001b[39m(\u001b[38;5;124m'\u001b[39m\u001b[38;5;124mdata.csv\u001b[39m\u001b[38;5;124m'\u001b[39m, mode\u001b[38;5;241m=\u001b[39m\u001b[38;5;124m'\u001b[39m\u001b[38;5;124mr\u001b[39m\u001b[38;5;124m'\u001b[39m, newline\u001b[38;5;241m=\u001b[39m\u001b[38;5;124m'\u001b[39m\u001b[38;5;124m'\u001b[39m) \u001b[38;5;28;01mas\u001b[39;00m file:\n\u001b[1;32m      4\u001b[0m     reader \u001b[38;5;241m=\u001b[39m csv\u001b[38;5;241m.\u001b[39mreader(file)\n\u001b[1;32m      5\u001b[0m     data \u001b[38;5;241m=\u001b[39m \u001b[38;5;28mlist\u001b[39m(reader)\n",
      "File \u001b[0;32m/opt/anaconda3/lib/python3.12/site-packages/IPython/core/interactiveshell.py:324\u001b[0m, in \u001b[0;36m_modified_open\u001b[0;34m(file, *args, **kwargs)\u001b[0m\n\u001b[1;32m    317\u001b[0m \u001b[38;5;28;01mif\u001b[39;00m file \u001b[38;5;129;01min\u001b[39;00m {\u001b[38;5;241m0\u001b[39m, \u001b[38;5;241m1\u001b[39m, \u001b[38;5;241m2\u001b[39m}:\n\u001b[1;32m    318\u001b[0m     \u001b[38;5;28;01mraise\u001b[39;00m \u001b[38;5;167;01mValueError\u001b[39;00m(\n\u001b[1;32m    319\u001b[0m         \u001b[38;5;124mf\u001b[39m\u001b[38;5;124m\"\u001b[39m\u001b[38;5;124mIPython won\u001b[39m\u001b[38;5;124m'\u001b[39m\u001b[38;5;124mt let you open fd=\u001b[39m\u001b[38;5;132;01m{\u001b[39;00mfile\u001b[38;5;132;01m}\u001b[39;00m\u001b[38;5;124m by default \u001b[39m\u001b[38;5;124m\"\u001b[39m\n\u001b[1;32m    320\u001b[0m         \u001b[38;5;124m\"\u001b[39m\u001b[38;5;124mas it is likely to crash IPython. If you know what you are doing, \u001b[39m\u001b[38;5;124m\"\u001b[39m\n\u001b[1;32m    321\u001b[0m         \u001b[38;5;124m\"\u001b[39m\u001b[38;5;124myou can use builtins\u001b[39m\u001b[38;5;124m'\u001b[39m\u001b[38;5;124m open.\u001b[39m\u001b[38;5;124m\"\u001b[39m\n\u001b[1;32m    322\u001b[0m     )\n\u001b[0;32m--> 324\u001b[0m \u001b[38;5;28;01mreturn\u001b[39;00m io_open(file, \u001b[38;5;241m*\u001b[39margs, \u001b[38;5;241m*\u001b[39m\u001b[38;5;241m*\u001b[39mkwargs)\n",
      "\u001b[0;31mFileNotFoundError\u001b[0m: [Errno 2] No such file or directory: 'data.csv'"
     ]
    }
   ],
   "source": [
    "#校正影片\n",
    "import numpy as np\n",
    "\n",
    "#讀取之前的參數\n",
    "with open('data.csv', mode='r', newline='') as file:\n",
    "    reader = csv.reader(file)\n",
    "    data = list(reader)\n",
    "    mtx=data[0]\n",
    "    dist=data[1]\n",
    "    \n",
    "# 確保輸出資料夾存在\n",
    "os.makedirs(output_folder, exist_ok=True)\n",
    "\n",
    "\n",
    "# 取得所有影片檔案\n",
    "video_files = [f for f in os.listdir(input_folder) if f.endswith(('.mp4'))]\n",
    "\n",
    "# 遍歷所有影片\n",
    "for video_file in video_files:\n",
    "    input_path = os.path.join(input_folder, video_file)\n",
    "    output_path = os.path.join(output_folder, f\"undistorted_{video_file}\")\n",
    "\n",
    "    print(f\"處理影片: {video_file} -> {output_path}\")\n",
    "\n",
    "    # 讀取影片\n",
    "    cap = cv2.VideoCapture(input_path)\n",
    "\n",
    "    # 取得影片的基本資訊\n",
    "    frame_width = int(cap.get(cv2.CAP_PROP_FRAME_WIDTH))\n",
    "    frame_height = int(cap.get(cv2.CAP_PROP_FRAME_HEIGHT))\n",
    "    fps = int(cap.get(cv2.CAP_PROP_FPS))\n",
    "\n",
    "    # 定義影片輸出編碼格式\n",
    "    fourcc = cv2.VideoWriter_fourcc(*\"mp4v\")  # MP4 格式\n",
    "    out = cv2.VideoWriter(output_path, fourcc, fps, (frame_width, frame_height))\n",
    "\n",
    "    # 計算新的相機矩陣\n",
    "    new_mtx, roi = cv2.getOptimalNewCameraMatrix(mtx, dist, \n",
    "                                                           (frame_width, frame_height), 1, \n",
    "                                                           (frame_width, frame_height))\n",
    "\n",
    "    # 預先計算映射表\n",
    "    mapx, mapy = cv2.initUndistortRectifyMap(mtx, dist, None, \n",
    "                                              new_mtx, (frame_width, frame_height), cv2.CV_32FC1)\n",
    "\n",
    "    # 讀取並處理影片\n",
    "    while cap.isOpened():#確定打開影片\n",
    "        ret, frame = cap.read()\n",
    "        if not ret:\n",
    "            break  # 影片播放完畢\n",
    "\n",
    "        # 校正畫面\n",
    "        undistorted_frame = cv2.remap(frame, mapx, mapy, cv2.INTER_LINEAR)\n",
    "\n",
    "        # 寫入校正後的影片\n",
    "        out.write(undistorted_frame)\n",
    "\n",
    "    # 釋放資源\n",
    "    cap.release()\n",
    "    out.release()\n",
    "    cv.destroyAllWindows()\n",
    "    \n",
    "    print(f\"✅ 已完成: {output_path}\")\n",
    "\n",
    "print(\" 所有影片處理完成！\")"
   ]
  },
  {
   "cell_type": "code",
   "execution_count": null,
   "id": "f4df9739-e692-46e8-add2-8a819a48724b",
   "metadata": {},
   "outputs": [],
   "source": []
  }
 ],
 "metadata": {
  "kernelspec": {
   "display_name": "Python 3 (ipykernel)",
   "language": "python",
   "name": "python3"
  },
  "language_info": {
   "codemirror_mode": {
    "name": "ipython",
    "version": 3
   },
   "file_extension": ".py",
   "mimetype": "text/x-python",
   "name": "python",
   "nbconvert_exporter": "python",
   "pygments_lexer": "ipython3",
   "version": "3.12.4"
  }
 },
 "nbformat": 4,
 "nbformat_minor": 5
}
